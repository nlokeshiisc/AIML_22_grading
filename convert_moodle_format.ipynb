{
 "cells": [
  {
   "cell_type": "code",
   "execution_count": 1,
   "id": "6fec9efd",
   "metadata": {},
   "outputs": [],
   "source": [
    "import pandas as pd"
   ]
  },
  {
   "cell_type": "code",
   "execution_count": 2,
   "id": "a651642b",
   "metadata": {},
   "outputs": [],
   "source": [
    "moodle_df = pd.read_excel(\"CS 335-2022-1 Grades.xlsx\", engine='openpyxl')\n",
    "moodle_df['ID number'] = moodle_df['ID number'].astype(\"string\")\n",
    "moodle_df = moodle_df.set_index('ID number')"
   ]
  },
  {
   "cell_type": "code",
   "execution_count": 3,
   "id": "41271da4",
   "metadata": {},
   "outputs": [
    {
     "data": {
      "text/plain": [
       "Index(['First name', 'Surname', 'Institution', 'Department', 'Email address',\n",
       "       'Assignment: Lab 2 (Real)', 'Assignment: Lab 2 (Feedback)',\n",
       "       'Last downloaded from this course'],\n",
       "      dtype='object')"
      ]
     },
     "execution_count": 3,
     "metadata": {},
     "output_type": "execute_result"
    }
   ],
   "source": [
    "moodle_df.columns"
   ]
  },
  {
   "cell_type": "code",
   "execution_count": 4,
   "id": "799ce3c6",
   "metadata": {},
   "outputs": [],
   "source": [
    "marks = \"Assignment: Lab 2 (Real)\"\n",
    "feedback = \"Assignment: Lab 2 (Feedback)\"\n",
    "moodle_df[feedback] = moodle_df[feedback].astype(\"string\")"
   ]
  },
  {
   "cell_type": "code",
   "execution_count": 5,
   "id": "11001d9e",
   "metadata": {},
   "outputs": [
    {
     "data": {
      "text/plain": [
       "Index(['First name', 'Surname', 'Institution', 'Department', 'Email address',\n",
       "       'Assignment: Lab 2 (Real)', 'Assignment: Lab 2 (Feedback)',\n",
       "       'Last downloaded from this course'],\n",
       "      dtype='object')"
      ]
     },
     "execution_count": 5,
     "metadata": {},
     "output_type": "execute_result"
    }
   ],
   "source": [
    "moodle_df.columns"
   ]
  },
  {
   "cell_type": "code",
   "execution_count": 6,
   "id": "3a1ca65d",
   "metadata": {},
   "outputs": [],
   "source": [
    "grades_df = pd.read_csv('grades.csv')\n",
    "grades_df['Roll Number'] = grades_df['Roll Number'].astype(\"string\")\n",
    "grades_df = grades_df.set_index('Roll Number')\n",
    "grades_df.fillna(\" \", inplace=True)"
   ]
  },
  {
   "cell_type": "code",
   "execution_count": 7,
   "id": "76ac12fe",
   "metadata": {},
   "outputs": [
    {
     "name": "stdout",
     "output_type": "stream",
     "text": [
      "Index([' Name', ' Q1 marks', ' Q2_1 marks', ' Q2_2 marks', ' Q2_3 marks',\n",
      "       ' Q2_4 marks', ' Q2_5 marks', 'Q3 marks', ' Total Marks',\n",
      "       ' Q1 comments', ' Q2_1 comments', ' Q2_2 comments', ' Q2_3 comments',\n",
      "       ' Q2_4 comments', ' Q2_5 comments', 'Q3 comments'],\n",
      "      dtype='object')\n"
     ]
    }
   ],
   "source": [
    "cols = grades_df.columns\n",
    "print(cols)"
   ]
  },
  {
   "cell_type": "code",
   "execution_count": 11,
   "id": "425f9c20",
   "metadata": {},
   "outputs": [
    {
     "name": "stdout",
     "output_type": "stream",
     "text": [
      "[' Q1 comments', ' Q2_1 comments', ' Q2_2 comments', ' Q2_3 comments', ' Q2_4 comments', ' Q2_5 comments', 'Q3 comments']\n"
     ]
    }
   ],
   "source": [
    "marks_grades = \" Total Marks\"\n",
    "comment_cols = [entry for entry in cols[-7:]]\n",
    "print(comment_cols)"
   ]
  },
  {
   "cell_type": "code",
   "execution_count": 12,
   "id": "a568c93c",
   "metadata": {},
   "outputs": [],
   "source": [
    "for roll, row in grades_df.iterrows():\n",
    "    m = row[marks_grades]\n",
    "    c = \"\"\n",
    "    for c_name, c_col in zip([\"Q1\", \"Q2 (a)\", \"Q2 (b)\", \"Q2 (c)\", \"Q2 (d)\", \"Q2 (e)\", \"Q3\" ], comment_cols):\n",
    "        c = c + f\"{c_name}: {row[c_col]} \\n\"\n",
    "    try:\n",
    "        moodle_df.at[roll, marks] = m\n",
    "        moodle_df.at[roll, feedback] = c\n",
    "    except:\n",
    "        print(\"Could not enter marks for, \", roll)\n",
    "        pass"
   ]
  },
  {
   "cell_type": "code",
   "execution_count": 13,
   "id": "2c9fbd74",
   "metadata": {
    "scrolled": true
   },
   "outputs": [
    {
     "data": {
      "text/html": [
       "<div>\n",
       "<style scoped>\n",
       "    .dataframe tbody tr th:only-of-type {\n",
       "        vertical-align: middle;\n",
       "    }\n",
       "\n",
       "    .dataframe tbody tr th {\n",
       "        vertical-align: top;\n",
       "    }\n",
       "\n",
       "    .dataframe thead th {\n",
       "        text-align: right;\n",
       "    }\n",
       "</style>\n",
       "<table border=\"1\" class=\"dataframe\">\n",
       "  <thead>\n",
       "    <tr style=\"text-align: right;\">\n",
       "      <th></th>\n",
       "      <th>First name</th>\n",
       "      <th>Surname</th>\n",
       "      <th>Institution</th>\n",
       "      <th>Department</th>\n",
       "      <th>Email address</th>\n",
       "      <th>Assignment: Lab 2 (Real)</th>\n",
       "      <th>Assignment: Lab 2 (Feedback)</th>\n",
       "      <th>Last downloaded from this course</th>\n",
       "    </tr>\n",
       "    <tr>\n",
       "      <th>ID number</th>\n",
       "      <th></th>\n",
       "      <th></th>\n",
       "      <th></th>\n",
       "      <th></th>\n",
       "      <th></th>\n",
       "      <th></th>\n",
       "      <th></th>\n",
       "      <th></th>\n",
       "    </tr>\n",
       "  </thead>\n",
       "  <tbody>\n",
       "    <tr>\n",
       "      <th>200050123</th>\n",
       "      <td>Sagar</td>\n",
       "      <td>.</td>\n",
       "      <td>NaN</td>\n",
       "      <td>NaN</td>\n",
       "      <td>200050123@iitb.ac.in</td>\n",
       "      <td>9.5</td>\n",
       "      <td>Q1: Total 3.0 out of 3. \n",
       "Q2 (a): 0.5 out of 0....</td>\n",
       "      <td>1662271403</td>\n",
       "    </tr>\n",
       "    <tr>\n",
       "      <th>200050111</th>\n",
       "      <td>P Sai</td>\n",
       "      <td>Aditya</td>\n",
       "      <td>NaN</td>\n",
       "      <td>NaN</td>\n",
       "      <td>200050111@iitb.ac.in</td>\n",
       "      <td>10</td>\n",
       "      <td>Q1: Total 3.0 out of 3. \n",
       "Q2 (a): 0.5 out of 0....</td>\n",
       "      <td>1662271403</td>\n",
       "    </tr>\n",
       "    <tr>\n",
       "      <th>200050050</th>\n",
       "      <td>Harshvardhan</td>\n",
       "      <td>Agarwal</td>\n",
       "      <td>NaN</td>\n",
       "      <td>NaN</td>\n",
       "      <td>200050050@iitb.ac.in</td>\n",
       "      <td>10</td>\n",
       "      <td>Q1: Total 3.0 out of 3. \n",
       "Q2 (a): 0.5 out of 0....</td>\n",
       "      <td>1662271403</td>\n",
       "    </tr>\n",
       "    <tr>\n",
       "      <th>200050113</th>\n",
       "      <td>Pulkit</td>\n",
       "      <td>Agarwal</td>\n",
       "      <td>NaN</td>\n",
       "      <td>NaN</td>\n",
       "      <td>200050113@iitb.ac.in</td>\n",
       "      <td>10</td>\n",
       "      <td>Q1: Total 3.0 out of 3. \n",
       "Q2 (a): 0.5 out of 0....</td>\n",
       "      <td>1662271403</td>\n",
       "    </tr>\n",
       "    <tr>\n",
       "      <th>200070076</th>\n",
       "      <td>Shikhar</td>\n",
       "      <td>Agrawal</td>\n",
       "      <td>NaN</td>\n",
       "      <td>NaN</td>\n",
       "      <td>200070076@iitb.ac.in</td>\n",
       "      <td>9.5</td>\n",
       "      <td>Q1: Total 3.0 out of 3. \n",
       "Q2 (a): 0.5 out of 0....</td>\n",
       "      <td>1662271403</td>\n",
       "    </tr>\n",
       "  </tbody>\n",
       "</table>\n",
       "</div>"
      ],
      "text/plain": [
       "             First name  Surname Institution Department         Email address  \\\n",
       "ID number                                                                       \n",
       "200050123         Sagar        .         NaN        NaN  200050123@iitb.ac.in   \n",
       "200050111         P Sai   Aditya         NaN        NaN  200050111@iitb.ac.in   \n",
       "200050050  Harshvardhan  Agarwal         NaN        NaN  200050050@iitb.ac.in   \n",
       "200050113        Pulkit  Agarwal         NaN        NaN  200050113@iitb.ac.in   \n",
       "200070076       Shikhar  Agrawal         NaN        NaN  200070076@iitb.ac.in   \n",
       "\n",
       "          Assignment: Lab 2 (Real)  \\\n",
       "ID number                            \n",
       "200050123                      9.5   \n",
       "200050111                       10   \n",
       "200050050                       10   \n",
       "200050113                       10   \n",
       "200070076                      9.5   \n",
       "\n",
       "                                Assignment: Lab 2 (Feedback)  \\\n",
       "ID number                                                      \n",
       "200050123  Q1: Total 3.0 out of 3. \n",
       "Q2 (a): 0.5 out of 0....   \n",
       "200050111  Q1: Total 3.0 out of 3. \n",
       "Q2 (a): 0.5 out of 0....   \n",
       "200050050  Q1: Total 3.0 out of 3. \n",
       "Q2 (a): 0.5 out of 0....   \n",
       "200050113  Q1: Total 3.0 out of 3. \n",
       "Q2 (a): 0.5 out of 0....   \n",
       "200070076  Q1: Total 3.0 out of 3. \n",
       "Q2 (a): 0.5 out of 0....   \n",
       "\n",
       "           Last downloaded from this course  \n",
       "ID number                                    \n",
       "200050123                        1662271403  \n",
       "200050111                        1662271403  \n",
       "200050050                        1662271403  \n",
       "200050113                        1662271403  \n",
       "200070076                        1662271403  "
      ]
     },
     "execution_count": 13,
     "metadata": {},
     "output_type": "execute_result"
    }
   ],
   "source": [
    "moodle_df.head()"
   ]
  },
  {
   "cell_type": "code",
   "execution_count": 14,
   "id": "aa183e7a",
   "metadata": {},
   "outputs": [],
   "source": [
    "moodle_df.to_excel('moodle_final.xlsx')"
   ]
  },
  {
   "cell_type": "code",
   "execution_count": 15,
   "id": "a5169395",
   "metadata": {},
   "outputs": [],
   "source": [
    "moodle_df.to_csv('moodle_final.csv')"
   ]
  },
  {
   "cell_type": "code",
   "execution_count": null,
   "id": "bd8ada76",
   "metadata": {},
   "outputs": [],
   "source": []
  }
 ],
 "metadata": {
  "kernelspec": {
   "display_name": "Python 3",
   "language": "python",
   "name": "python3"
  },
  "language_info": {
   "codemirror_mode": {
    "name": "ipython",
    "version": 3
   },
   "file_extension": ".py",
   "mimetype": "text/x-python",
   "name": "python",
   "nbconvert_exporter": "python",
   "pygments_lexer": "ipython3",
   "version": "3.8.8"
  }
 },
 "nbformat": 4,
 "nbformat_minor": 5
}
